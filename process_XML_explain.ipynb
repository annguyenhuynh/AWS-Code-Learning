{
 "cells": [
  {
   "cell_type": "code",
   "execution_count": 7,
   "metadata": {},
   "outputs": [],
   "source": [
    "import json\n",
    "import xml.etree.ElementTree as ET\n",
    "import boto3\n",
    "import logging"
   ]
  },
  {
   "cell_type": "markdown",
   "metadata": {},
   "source": [
    "### Logging and Connect to S3\n"
   ]
  },
  {
   "cell_type": "code",
   "execution_count": 8,
   "metadata": {},
   "outputs": [],
   "source": [
    "# Configure logging\n",
    "logging.basicConfig(level=logging.INFO)\n",
    "logger = logging.getLogger(__name__)\n",
    "\n",
    "# Initialize the S3 client\n",
    "s3_client = boto3.client('s3')\n",
    "\n",
    "# S3 paths\n",
    "input_bucket = 'eda-search-documents'\n",
    "input_prefix = 'contracts/PDS/2025/'\n",
    "output_bucket = 'eda-search-documents'\n",
    "output_prefix = 'processed-json/'"
   ]
  },
  {
   "cell_type": "markdown",
   "metadata": {},
   "source": [
    "### Convert XML to a Dictionary"
   ]
  },
  {
   "cell_type": "code",
   "execution_count": 9,
   "metadata": {},
   "outputs": [],
   "source": [
    "# Function to convert XML to dictionary while maintaining the hierarchical structure\n",
    "def xml_to_dict(element):\n",
    "    result = {}\n",
    "\n",
    "    for child in element:\n",
    "        child_dict = xml_to_dict(child) if len(child) else child.text.strip() if child.text else \"\"\n",
    "\n",
    "        if child.tag in result:\n",
    "            # Convert to a list if multiple children with the same tag exist\n",
    "            if isinstance(result[child.tag], list):\n",
    "                result[child.tag].append(child_dict)\n",
    "            else:\n",
    "                result[child.tag] = [result[child.tag], child_dict]\n",
    "        else:\n",
    "            result[child.tag] = child_dict\n",
    "\n",
    "    return result\n"
   ]
  },
  {
   "cell_type": "markdown",
   "metadata": {},
   "source": [
    "#### Code explain:\n",
    "* This recursive function converts an XML element into a Python dictionary.\n",
    "* It iterates over the children of the given XML element.\n",
    "* If child has nested elements (len(child) > 0), it recursively calls xml_to_dict(child), converting the child into a dictionary.\n",
    "* If child has no nested elements:\n",
    "    * If child.text exists (i.e., it contains text), .strip() is used to remove leading/trailing whitespace.\n",
    "    * If child.text is None, it defaults to an empty string (\"\").\n",
    "\n",
    "* This ensures that:\n",
    "    * Elements with children are represented as dictionaries.\n",
    "    * Leaf nodes (no children) store their text content."
   ]
  },
  {
   "cell_type": "markdown",
   "metadata": {},
   "source": [
    "### Read and Convert XML files"
   ]
  },
  {
   "cell_type": "code",
   "execution_count": 10,
   "metadata": {},
   "outputs": [],
   "source": [
    "# Function to process each XML file\n",
    "def process_xml_file(file_key):\n",
    "    try:\n",
    "        logger.info(f\"Processing file: {file_key}\")\n",
    "\n",
    "        # Get the XML content from S3\n",
    "        response = s3_client.get_object(Bucket=input_bucket, Key=file_key)\n",
    "        xml_content = response['Body'].read().decode('utf-8')\n",
    "\n",
    "        # Parse the XML content\n",
    "        root = ET.fromstring(xml_content)\n",
    "        json_data = xml_to_dict(root)\n",
    "\n",
    "        return json.dumps(json_data, indent=4)\n",
    "\n",
    "    except ET.ParseError as e:\n",
    "        logger.error(f\"XML ParseError in {file_key}: {e}\")\n",
    "    except Exception as e:\n",
    "        logger.error(f\"Unexpected error processing {file_key}: {e}\")\n",
    "\n",
    "    return None  # Return None if processing fails\n"
   ]
  },
  {
   "cell_type": "markdown",
   "metadata": {},
   "source": [
    "#### Code explain\n",
    "\n",
    "* Reads an XML file from S3.\n",
    "* Parses the XML content using ElementTree (ET).\n",
    "* Calls xml_to_dict(root) to convert the parsed XML into a dictionary.\n",
    "    * More specifically, uses **ElementTree.fromstring()** to parse the XML string and convert it into an ElementTree object (root).\n",
    "    * This allows us to traverse the XML structure.\n",
    "* Converts the dictionary to a JSON string.\n",
    "* Logs errors if XML parsing fails.\n",
    "* Returns the JSON string if processing succeeds; otherwise, returns None"
   ]
  },
  {
   "cell_type": "markdown",
   "metadata": {},
   "source": [
    "### List XML files from S3 bucket using the prefix"
   ]
  },
  {
   "cell_type": "code",
   "execution_count": 11,
   "metadata": {},
   "outputs": [],
   "source": [
    "def list_xml_files():\n",
    "    files = []\n",
    "    response = s3_client.list_objects_v2(Bucket=input_bucket, Prefix=input_prefix)\n",
    "\n",
    "    while 'Contents' in response:\n",
    "        for obj in response['Contents']:\n",
    "            file_key = obj['Key']\n",
    "            if file_key.endswith('.xml'):\n",
    "                files.append(file_key)\n",
    "\n",
    "        if response.get('IsTruncated'):\n",
    "            response = s3_client.list_objects_v2(\n",
    "                Bucket=input_bucket, Prefix=input_prefix,\n",
    "                ContinuationToken=response['NextContinuationToken']\n",
    "            )\n",
    "        else:\n",
    "            break\n",
    "\n",
    "    return files"
   ]
  },
  {
   "cell_type": "markdown",
   "metadata": {},
   "source": [
    "### Main function to process all XML files and store as JSON in S3"
   ]
  },
  {
   "cell_type": "code",
   "execution_count": null,
   "metadata": {},
   "outputs": [],
   "source": [
    "def main():\n",
    "    xml_files = list_xml_files()\n",
    "    \n",
    "    for file_key in xml_files:\n",
    "        json_data = process_xml_file(file_key)\n",
    "        \n",
    "        if json_data:  \n",
    "            output_file_key = f\"{output_prefix}{file_key.split('/')[-1].replace('.xml', '.json')}\"\n",
    "            \n",
    "            # Upload the JSON data to S3\n",
    "            s3_client.put_object(Bucket=output_bucket, Key=output_file_key, Body=json_data)\n",
    "            \n",
    "            logger.info(f\"Processed and uploaded: {output_file_key}\")\n",
    "        else:\n",
    "            logger.warning(f\"Skipping upload for {file_key} due to processing failure.\")\n",
    "\n",
    "if __name__ == '__main__':\n",
    "    main()"
   ]
  },
  {
   "cell_type": "markdown",
   "metadata": {},
   "source": [
    "#### Code explain\n",
    "\n",
    "* Calls list_xml_files() to get a list of XML file paths.\n",
    "* Iterates through each XML file:\n",
    "* Calls process_xml_file(file_key) to convert it into JSON.\n",
    "* If successful, generates an output filename with a .json extension.\n",
    "* Uploads the JSON file to the output S3 bucket using s3_client.put_object().\n",
    "* Logs success or failure messages.\n",
    "* **5. if __name__ == '__main__': main()\n",
    "Ensures the script runs only when executed directly.\n",
    "Calls main() to start processing all XML files.**"
   ]
  }
 ],
 "metadata": {
  "kernelspec": {
   "display_name": "base",
   "language": "python",
   "name": "python3"
  },
  "language_info": {
   "codemirror_mode": {
    "name": "ipython",
    "version": 3
   },
   "file_extension": ".py",
   "mimetype": "text/x-python",
   "name": "python",
   "nbconvert_exporter": "python",
   "pygments_lexer": "ipython3",
   "version": "3.12.7"
  }
 },
 "nbformat": 4,
 "nbformat_minor": 2
}
