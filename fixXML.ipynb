{
 "cells": [
  {
   "cell_type": "code",
   "execution_count": 1,
   "metadata": {},
   "outputs": [
    {
     "name": "stdout",
     "output_type": "stream",
     "text": [
      "File has been fixed and saved as 'fixed_file.xml'.\n"
     ]
    }
   ],
   "source": [
    "import re\n",
    "\n",
    "def fix_xml(file_path):\n",
    "    with open(file_path, 'r', encoding='utf-8') as file:\n",
    "        content = file.read()\n",
    "\n",
    "    # Find all unescaped '&' characters that are not part of an entity\n",
    "    fixed_content = re.sub(r'&(?!amp;|lt;|gt;|quot;|apos;|#x[0-9A-Fa-f]+;|#[0-9]+;)', '&amp;', content)\n",
    "\n",
    "    # Save the fixed content to a new file\n",
    "    with open('fixed_file.xml', 'w', encoding='utf-8') as file:\n",
    "        file.write(fixed_content)\n",
    "    print(\"File has been fixed and saved as 'fixed_file.xml'.\")\n",
    "\n",
    "# Call the function\n",
    "fix_xml('FA868224CB001.txt')\n"
   ]
  },
  {
   "cell_type": "code",
   "execution_count": null,
   "metadata": {},
   "outputs": [],
   "source": []
  }
 ],
 "metadata": {
  "kernelspec": {
   "display_name": "base",
   "language": "python",
   "name": "python3"
  },
  "language_info": {
   "codemirror_mode": {
    "name": "ipython",
    "version": 3
   },
   "file_extension": ".py",
   "mimetype": "text/x-python",
   "name": "python",
   "nbconvert_exporter": "python",
   "pygments_lexer": "ipython3",
   "version": "3.12.7"
  }
 },
 "nbformat": 4,
 "nbformat_minor": 2
}
