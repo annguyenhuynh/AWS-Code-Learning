{
 "cells": [
  {
   "cell_type": "markdown",
   "metadata": {},
   "source": [
    "**XML**: XML stands for eXtensible Markup Language. It was designed to store and transport data. It was designed to be both human- and machine-readable.That’s why, the design goals of XML emphasize simplicity, generality, and usability across the Internet.\n",
    "The XML file to be parsed in this tutorial is actually a RSS feed.\n",
    "\n",
    "**RSS**: RSS(Rich Site Summary, often called Really Simple Syndication) uses a family of standard web feed formats to publish frequently updated informationlike blog entries, news headlines, audio, video. RSS is XML formatted plain text."
   ]
  },
  {
   "cell_type": "code",
   "execution_count": 2,
   "metadata": {},
   "outputs": [],
   "source": [
    "import csv \n",
    "import requests \n",
    "import xml.etree.ElementTree as ET"
   ]
  },
  {
   "cell_type": "code",
   "execution_count": null,
   "metadata": {},
   "outputs": [],
   "source": [
    "def loadRSS():\n",
    "    # url of rss feed \n",
    "    url = 'http://www.hindustantimes.com/rss/topnews/rssfeed.xml'"
   ]
  },
  {
   "cell_type": "code",
   "execution_count": 3,
   "metadata": {},
   "outputs": [],
   "source": [
    "tree = ET.parse('country_data.xml')"
   ]
  },
  {
   "cell_type": "code",
   "execution_count": 4,
   "metadata": {},
   "outputs": [],
   "source": [
    "root = tree.getroot()"
   ]
  },
  {
   "cell_type": "code",
   "execution_count": 5,
   "metadata": {},
   "outputs": [
    {
     "data": {
      "text/plain": [
       "'data'"
      ]
     },
     "execution_count": 5,
     "metadata": {},
     "output_type": "execute_result"
    }
   ],
   "source": [
    "root.tag"
   ]
  },
  {
   "cell_type": "code",
   "execution_count": 6,
   "metadata": {},
   "outputs": [
    {
     "data": {
      "text/plain": [
       "{}"
      ]
     },
     "execution_count": 6,
     "metadata": {},
     "output_type": "execute_result"
    }
   ],
   "source": [
    "root.attrib"
   ]
  },
  {
   "cell_type": "code",
   "execution_count": 7,
   "metadata": {},
   "outputs": [
    {
     "name": "stdout",
     "output_type": "stream",
     "text": [
      "country {'name': 'Liechtenstein'}\n",
      "country {'name': 'Singapore'}\n",
      "country {'name': 'Panama'}\n"
     ]
    }
   ],
   "source": [
    "for child in root:\n",
    "    print(child.tag,child.attrib)"
   ]
  },
  {
   "cell_type": "code",
   "execution_count": 11,
   "metadata": {},
   "outputs": [
    {
     "data": {
      "text/plain": [
       "'141100'"
      ]
     },
     "execution_count": 11,
     "metadata": {},
     "output_type": "execute_result"
    }
   ],
   "source": [
    "## XML index and position works like index and position for Python\n",
    "root[0][2].text"
   ]
  },
  {
   "cell_type": "code",
   "execution_count": null,
   "metadata": {},
   "outputs": [],
   "source": [
    "# Another way to define the XML root if we have XML content as string\n",
    "root = ET.fromstring(xml_content)"
   ]
  },
  {
   "cell_type": "code",
   "execution_count": null,
   "metadata": {},
   "outputs": [],
   "source": [
    "def extract_essential_contract_data(root):\n",
    "    contract_data = {\n",
    "        \"contract_identification\": {},\n",
    "        \"dates\": {},\n",
    "        \"financial\": {},\n",
    "        \"contractor\": {},\n",
    "        \"line_items\": [],\n",
    "        \"reference_data\":{}\n",
    "    }\n",
    "\n",
    "    ns = {\"\": root.tag.split('}')[0].strip('{') if '}' in root.tag else \"\"}"
   ]
  },
  {
   "cell_type": "markdown",
   "metadata": {},
   "source": [
    "### Code explain\n",
    "\n",
    "\n",
    "The last line is used to create a dictionary ns that contains a mapping of the namespace (if any) associated with the XML element tag, typically used in XML parsing when dealing with XML namespaces.\n",
    "\n",
    "Let's break it down:\n",
    "\n",
    "1) root.tag\n",
    "\n",
    "root.tag refers to the tag name of the root element of the XML document. In XML, element names can include a namespace, which appears before the element name, separated by a }. For example:\n",
    "            <ns:contract>...</ns:contract> (where ns is the namespace prefix)\n",
    "\n",
    "* The full tag might look like {http://example.com/ns}contract if the XML uses namespaces in this form.\n",
    "root.tag.split('}')[0]\n",
    "    - root.tag.split('}')[0] splits the root.tag string at the } character, which separates the namespace URI from the tag name.\n",
    "\n",
    "* For example, if root.tag is {http://example.com/ns}contract, the result of split('}') would be:\n",
    "                ['{http://example.com/ns', 'contract']\n",
    "\n",
    "* The split('}')[0] part selects the first part of the split result: '{http://example.com/ns'.strip('{').strip('{') removes the { character from the beginning of the string, which is used to mark the start of a namespace in XML.\n",
    "\n",
    "* So, {http://example.com/ns becomes http://example.com/ns. if '}' in root.tag else \"\"\n",
    "* This part of the code checks if there is a } character in root.tag. If the } character is present, it means the tag includes a namespace, and the logic will extract the namespace URI (i.e., the portion before }).\n",
    "\n",
    "* If there's no } (i.e., no namespace), the else \"\" ensures that an empty string \"\" is used as the namespace.\n",
    "Putting it together\n",
    "    - ns = {\"\": root.tag.split('}')[0].strip('{') if '}' in root.tag else \"\"}\n",
    "\n",
    "* What it does: The line creates a dictionary ns with the key \"\" (an empty string, which typically represents the default namespace in XML) and the value as the namespace URI extracted from root.tag. If no namespace exists in root.tag, the value is an empty string.\n",
    "\n",
    "Example 1: If the root.tag is {http://example.com/ns}contract, the result would be:\n",
    "\n",
    "            ns = {\"\": \"http://example.com/ns\"}\n",
    "Example 2: If root.tag is simply contract (without a namespace), the result would be:\n",
    "\n",
    "            ns = {\"\": \"\"}\n",
    "\n",
    "**This ns dictionary is often used in XML parsing to define namespaces when using methods that require them, like when querying for elements with specific namespace**"
   ]
  },
  {
   "cell_type": "markdown",
   "metadata": {},
   "source": []
  }
 ],
 "metadata": {
  "kernelspec": {
   "display_name": "base",
   "language": "python",
   "name": "python3"
  },
  "language_info": {
   "codemirror_mode": {
    "name": "ipython",
    "version": 3
   },
   "file_extension": ".py",
   "mimetype": "text/x-python",
   "name": "python",
   "nbconvert_exporter": "python",
   "pygments_lexer": "ipython3",
   "version": "3.12.7"
  }
 },
 "nbformat": 4,
 "nbformat_minor": 2
}
