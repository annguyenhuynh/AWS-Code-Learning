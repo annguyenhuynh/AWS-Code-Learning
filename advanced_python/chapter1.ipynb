{
 "cells": [
  {
   "cell_type": "markdown",
   "metadata": {},
   "source": [
    "## Scaling with Generators"
   ]
  },
  {
   "cell_type": "markdown",
   "metadata": {},
   "source": [
    "#### 1. Iteration in Python"
   ]
  },
  {
   "cell_type": "code",
   "execution_count": 2,
   "metadata": {},
   "outputs": [
    {
     "name": "stdout",
     "output_type": "stream",
     "text": [
      "7\n",
      "4\n",
      "11\n",
      "3\n"
     ]
    }
   ],
   "source": [
    "numbers = [7,4,11,3]\n",
    "iter(numbers)\n",
    "for num in numbers:\n",
    "    print(num)"
   ]
  },
  {
   "cell_type": "code",
   "execution_count": 3,
   "metadata": {},
   "outputs": [
    {
     "data": {
      "text/plain": [
       "140492475161472"
      ]
     },
     "execution_count": 3,
     "metadata": {},
     "output_type": "execute_result"
    }
   ],
   "source": [
    "number_iter = iter(numbers)\n",
    "id(number_iter)\n",
    "\n"
   ]
  },
  {
   "cell_type": "code",
   "execution_count": 4,
   "metadata": {},
   "outputs": [
    {
     "data": {
      "text/plain": [
       "<method-wrapper '__iter__' of list object at 0x7fc6f4c43580>"
      ]
     },
     "execution_count": 4,
     "metadata": {},
     "output_type": "execute_result"
    }
   ],
   "source": [
    "numbers.__iter__"
   ]
  },
  {
   "cell_type": "code",
   "execution_count": 5,
   "metadata": {},
   "outputs": [
    {
     "data": {
      "text/plain": [
       "<list_iterator at 0x7fc6f4135c40>"
      ]
     },
     "execution_count": 5,
     "metadata": {},
     "output_type": "execute_result"
    }
   ],
   "source": [
    "numbers.__iter__()"
   ]
  },
  {
   "cell_type": "code",
   "execution_count": 6,
   "metadata": {},
   "outputs": [
    {
     "data": {
      "text/plain": [
       "'Tom'"
      ]
     },
     "execution_count": 6,
     "metadata": {},
     "output_type": "execute_result"
    }
   ],
   "source": [
    "names = [\"Tom\", \"Shelly\", \"Garth\"]\n",
    "names_it = iter(names)\n",
    "next(names_it)"
   ]
  },
  {
   "cell_type": "code",
   "execution_count": 7,
   "metadata": {},
   "outputs": [
    {
     "data": {
      "text/plain": [
       "'Shelly'"
      ]
     },
     "execution_count": 7,
     "metadata": {},
     "output_type": "execute_result"
    }
   ],
   "source": [
    "next(names_it)\n"
   ]
  },
  {
   "cell_type": "code",
   "execution_count": 8,
   "metadata": {},
   "outputs": [
    {
     "data": {
      "text/plain": [
       "'Garth'"
      ]
     },
     "execution_count": 8,
     "metadata": {},
     "output_type": "execute_result"
    }
   ],
   "source": [
    "next(names_it)"
   ]
  },
  {
   "cell_type": "code",
   "execution_count": 9,
   "metadata": {},
   "outputs": [],
   "source": [
    "def gen_extra_nums():\n",
    "    n = 0\n",
    "    while n < 4:\n",
    "        yield n\n",
    "        n+=1\n",
    "    yield 42"
   ]
  },
  {
   "cell_type": "code",
   "execution_count": 10,
   "metadata": {},
   "outputs": [
    {
     "name": "stdout",
     "output_type": "stream",
     "text": [
      "0\n",
      "1\n",
      "2\n",
      "3\n",
      "42\n"
     ]
    }
   ],
   "source": [
    "for num in gen_extra_nums():\n",
    "    print(num)"
   ]
  },
  {
   "cell_type": "code",
   "execution_count": 11,
   "metadata": {},
   "outputs": [],
   "source": [
    "def gen_squares(max_root):\n",
    "    for num in range(max_root):\n",
    "        yield num**2"
   ]
  },
  {
   "cell_type": "code",
   "execution_count": 12,
   "metadata": {},
   "outputs": [
    {
     "name": "stdout",
     "output_type": "stream",
     "text": [
      "0\n",
      "1\n",
      "4\n",
      "9\n",
      "16\n"
     ]
    }
   ],
   "source": [
    "max = 5\n",
    "for square in gen_squares(max):\n",
    "    print(square)"
   ]
  },
  {
   "cell_type": "markdown",
   "metadata": {},
   "source": [
    "##### 1.1. Do we need generators?\n",
    "\n",
    "* Strictly speaking, NO. We just want them to make useful patterns of scalability far easier."
   ]
  },
  {
   "cell_type": "code",
   "execution_count": 13,
   "metadata": {},
   "outputs": [],
   "source": [
    "class SquareIterator:\n",
    "    def __init__(self, max_root):\n",
    "        self.max_root = max_root\n",
    "        self.current_root_value = 0\n",
    "\n",
    "    def __iter__(self):\n",
    "        return self \n",
    "    \n",
    "    def __next__(self):\n",
    "        if self.current_root_value >= self.max_root:\n",
    "            raise StopIteration\n",
    "        square = self.current_root_value ** 2\n",
    "        self.current_root_value += 1\n",
    "        return square"
   ]
  },
  {
   "cell_type": "markdown",
   "metadata": {},
   "source": [
    "##### Code explain\n",
    "\n",
    "* Each value is obtained by invoking its __next__() method, until it raises StopIteration."
   ]
  },
  {
   "cell_type": "code",
   "execution_count": 14,
   "metadata": {},
   "outputs": [
    {
     "name": "stdout",
     "output_type": "stream",
     "text": [
      "0\n",
      "1\n",
      "4\n",
      "9\n",
      "16\n",
      "25\n",
      "36\n",
      "49\n",
      "64\n",
      "81\n"
     ]
    }
   ],
   "source": [
    "for square in SquareIterator(10):\n",
    "    print(square)"
   ]
  },
  {
   "cell_type": "markdown",
   "metadata": {},
   "source": [
    "#### 2. Generator patterns and scalable Composability"
   ]
  },
  {
   "cell_type": "code",
   "execution_count": 15,
   "metadata": {},
   "outputs": [],
   "source": [
    "## Sample generator function\n",
    "def matching_line_from_files(path, pattern):\n",
    "    with open(path) as handle: # open a read-only oject called handle\n",
    "        for line in handle:\n",
    "            if pattern in line:\n",
    "                yield line.rstrip('\\n')"
   ]
  },
  {
   "cell_type": "markdown",
   "metadata": {},
   "source": [
    "#### 3. Text lines to Dicts"
   ]
  },
  {
   "cell_type": "code",
   "execution_count": 17,
   "metadata": {},
   "outputs": [
    {
     "name": "stdout",
     "output_type": "stream",
     "text": [
      "WARNING: Disk usage exceeding 85%\n",
      "WARNING: Almost out of beers\n"
     ]
    }
   ],
   "source": [
    "for line in matching_line_from_files(\"logs.txt\", \"WARNING:\"):\n",
    "    print(line)"
   ]
  },
  {
   "cell_type": "code",
   "execution_count": 18,
   "metadata": {},
   "outputs": [],
   "source": [
    "def parse_log_records(lines):\n",
    "    for line in lines:\n",
    "        level,message = line.split(':', 1)\n",
    "        yield {'level': level, 'message': message}\n"
   ]
  },
  {
   "cell_type": "code",
   "execution_count": 19,
   "metadata": {},
   "outputs": [
    {
     "name": "stdout",
     "output_type": "stream",
     "text": [
      "{'level': 'WARNING', 'message': ' Disk usage exceeding 85%'}\n",
      "{'level': 'WARNING', 'message': ' Almost out of beers'}\n"
     ]
    }
   ],
   "source": [
    "log_lines = matching_line_from_files(\"logs.txt\", \"WARNING:\")\n",
    "for record in parse_log_records(log_lines):\n",
    "    print(record)"
   ]
  },
  {
   "cell_type": "code",
   "execution_count": 20,
   "metadata": {},
   "outputs": [
    {
     "name": "stdout",
     "output_type": "stream",
     "text": [
      "{'level': 'WARNING', 'message': ' Disk usage exceeding 85%\\n'}\n",
      "{'level': 'DEBUG', 'message': \" User 'tinytik' updated to Pro version\\n\"}\n",
      "{'level': 'INFO', 'message': ' Sent email campaign, completed successfully\\n'}\n",
      "{'level': 'WARNING', 'message': ' Almost out of beers'}\n"
     ]
    }
   ],
   "source": [
    "with open(\"logs.txt\") as handle:\n",
    "    for record in parse_log_records(handle):\n",
    "        print(record)"
   ]
  },
  {
   "cell_type": "markdown",
   "metadata": {},
   "source": [
    "#### 4. Composable interfaces"
   ]
  },
  {
   "cell_type": "code",
   "execution_count": 21,
   "metadata": {},
   "outputs": [],
   "source": [
    "# Break up services in matching_lines_from_file() into 2 generator functions\n",
    "\n",
    "def lines_from_file(path):\n",
    "    with open(path) as handle:\n",
    "        for line in handle:\n",
    "            yield line.rstrip('\\n')\n",
    "\n",
    "def matching_lines(lines, pattern):\n",
    "    for line in lines:\n",
    "        if pattern in line:\n",
    "            yield line"
   ]
  },
  {
   "cell_type": "code",
   "execution_count": 22,
   "metadata": {},
   "outputs": [
    {
     "name": "stdout",
     "output_type": "stream",
     "text": [
      "WARNING: Disk usage exceeding 85%\n",
      "WARNING: Almost out of beers\n"
     ]
    }
   ],
   "source": [
    "lines = lines_from_file(\"logs.txt\")\n",
    "matching = matching_lines(lines, 'WARNING:')\n",
    "for line in matching:\n",
    "    print(line)"
   ]
  },
  {
   "cell_type": "markdown",
   "metadata": {},
   "source": [
    "* **lines_from_file()** is a **source** function. \n",
    "* A real program wants to do something with that stream, consuming it without producing another iterator, call that a **sink**\n",
    "\n",
    "* **Source Functions**:\n",
    "    * Definition: Source functions are responsible for creating or retrieving data that will be used by other parts of the program. \n",
    "    * Examples:\n",
    "        * Reading data from a file. \n",
    "        * Receiving data from a network socket. \n",
    "        * Generating random numbers. \n",
    "        * Retrieving data from a database. \n",
    "* --> Purpose: To provide the initial data for the program's operations. \n",
    "* **Sink Functions**:\n",
    "    * Definition: Sink functions are responsible for receiving and processing data, often as the final step in a data pipeline. \n",
    "    * Examples:\n",
    "        * Writing data to a file. \n",
    "        * Sending data over a network socket. \n",
    "        * Displaying data on the screen. \n",
    "        * Storing data in a database. \n",
    "* --> Purpose: To provide a place for the data to end up after being processed by other parts of the program. "
   ]
  },
  {
   "cell_type": "markdown",
   "metadata": {},
   "source": [
    "#### 5. Fanning out\n"
   ]
  },
  {
   "cell_type": "code",
   "execution_count": 23,
   "metadata": {},
   "outputs": [],
   "source": [
    "def words_in_text(lines):\n",
    "    for line in lines:\n",
    "        for word in line.split():\n",
    "            yield word"
   ]
  },
  {
   "cell_type": "code",
   "execution_count": 24,
   "metadata": {},
   "outputs": [
    {
     "name": "stdout",
     "output_type": "stream",
     "text": [
      "all\n",
      "night\n",
      "our\n",
      "room\n",
      "was\n",
      "outer-walled\n",
      "with\n",
      "rain\n",
      "drops\n",
      "fell\n",
      "and\n",
      "flattened\n",
      "on\n",
      "the\n",
      "tin\n",
      "roof\n",
      "and\n",
      "rang\n",
      "like\n",
      "little\n",
      "disks\n",
      "of\n",
      "metal\n"
     ]
    }
   ],
   "source": [
    "poem_line = lines_from_file('poem.txt')\n",
    "poem_word = words_in_text(poem_line)\n",
    "for word in poem_word:\n",
    "    print(word)"
   ]
  },
  {
   "cell_type": "markdown",
   "metadata": {},
   "source": [
    "* The **word_in_text()** function takes the **fan out** approach. No iput records are dropped, it's still in the \"mapping\" category of generator functions. "
   ]
  },
  {
   "cell_type": "markdown",
   "metadata": {},
   "source": [
    "#### 6. Fanning in\n",
    "\n",
    "* The generator function consumes more than one input record to proudce each output record"
   ]
  },
  {
   "cell_type": "code",
   "execution_count": 32,
   "metadata": {},
   "outputs": [],
   "source": [
    "def house_records(lines):\n",
    "    record = {}\n",
    "    for line in lines:\n",
    "        if line == '':\n",
    "            yield record \n",
    "            record = {}\n",
    "            continue \n",
    "        key, value = line.split(': ',1)\n",
    "        record[key] = value \n",
    "    yield record\n"
   ]
  },
  {
   "cell_type": "code",
   "execution_count": 33,
   "metadata": {},
   "outputs": [
    {
     "name": "stdout",
     "output_type": "stream",
     "text": [
      "{'address': '1423 99th Ave', 'square_feet': '1705', 'priced_usd': '340210'}\n",
      "{'address': '24257 Pueblo Dr', 'square_feet': '2305', 'priced_usd': '170210'}\n",
      "{'address': '127 Cochran', 'square_feet': '2068', 'priced_usd': '320500'}\n"
     ]
    }
   ],
   "source": [
    "with open('house_sales.txt', 'r') as file:\n",
    "    lines = [line.strip() for line in file]\n",
    "\n",
    "for record in house_records(lines):\n",
    "    print(record)"
   ]
  },
  {
   "cell_type": "code",
   "execution_count": null,
   "metadata": {},
   "outputs": [],
   "source": []
  }
 ],
 "metadata": {
  "kernelspec": {
   "display_name": "base",
   "language": "python",
   "name": "python3"
  },
  "language_info": {
   "codemirror_mode": {
    "name": "ipython",
    "version": 3
   },
   "file_extension": ".py",
   "mimetype": "text/x-python",
   "name": "python",
   "nbconvert_exporter": "python",
   "pygments_lexer": "ipython3",
   "version": "3.9.12"
  }
 },
 "nbformat": 4,
 "nbformat_minor": 2
}
